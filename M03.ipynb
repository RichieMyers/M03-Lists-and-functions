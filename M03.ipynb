{
 "cells": [
  {
   "cell_type": "code",
   "execution_count": 1,
   "id": "6c457d38",
   "metadata": {},
   "outputs": [
    {
     "data": {
      "text/plain": [
       "['cinderella', 'mozzarelle', 'salmonella']"
      ]
     },
     "execution_count": 1,
     "metadata": {},
     "output_type": "execute_result"
    }
   ],
   "source": [
    "things = list(['cinderella','mozzarelle','salmonella'])\n",
    "things"
   ]
  },
  {
   "cell_type": "code",
   "execution_count": 6,
   "id": "e3203e7e",
   "metadata": {},
   "outputs": [
    {
     "data": {
      "text/plain": [
       "'salmonella'"
      ]
     },
     "execution_count": 6,
     "metadata": {},
     "output_type": "execute_result"
    }
   ],
   "source": [
    "things[-1]"
   ]
  },
  {
   "cell_type": "code",
   "execution_count": 7,
   "id": "da6d3a3a",
   "metadata": {},
   "outputs": [],
   "source": [
    "del things[-1]"
   ]
  },
  {
   "cell_type": "code",
   "execution_count": 8,
   "id": "91aba209",
   "metadata": {},
   "outputs": [
    {
     "data": {
      "text/plain": [
       "['cinderella', 'mozzarelle']"
      ]
     },
     "execution_count": 8,
     "metadata": {},
     "output_type": "execute_result"
    }
   ],
   "source": [
    "things"
   ]
  },
  {
   "cell_type": "code",
   "execution_count": null,
   "id": "92d539a1",
   "metadata": {},
   "outputs": [],
   "source": [
    "for i in things:\n",
    "    print(i.capitalize())\n",
    "things"
   ]
  },
  {
   "cell_type": "code",
   "execution_count": null,
   "id": "3cb4094f",
   "metadata": {},
   "outputs": [],
   "source": [
    "def good();\n",
    "    return ['Harry', 'Ron', 'Hermione']\n",
    "print(good())\n"
   ]
  },
  {
   "cell_type": "code",
   "execution_count": null,
   "id": "3e0d70ea",
   "metadata": {},
   "outputs": [],
   "source": [
    "limit = 10\n",
    "getOdds = (num for num in range(limit) if not num % 2 == 0)\n",
    "count = 0\n",
    "for num in getOdds:\n",
    "    if count == 2:\n",
    "        print(num)\n",
    "        break\n",
    "    count += 1"
   ]
  }
 ],
 "metadata": {
  "kernelspec": {
   "display_name": "Python 3 (ipykernel)",
   "language": "python",
   "name": "python3"
  },
  "language_info": {
   "codemirror_mode": {
    "name": "ipython",
    "version": 3
   },
   "file_extension": ".py",
   "mimetype": "text/x-python",
   "name": "python",
   "nbconvert_exporter": "python",
   "pygments_lexer": "ipython3",
   "version": "3.9.13"
  }
 },
 "nbformat": 4,
 "nbformat_minor": 5
}
